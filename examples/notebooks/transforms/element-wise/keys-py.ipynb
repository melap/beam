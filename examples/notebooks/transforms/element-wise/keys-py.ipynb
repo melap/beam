{
 "cells": [
  {
   "cell_type": "markdown",
   "metadata": {
    "id": "view-in-github"
   },
   "source": [
    "<a href=\"https://colab.research.google.com/github/davidcavazos/beam/blob/notebooks/examples/notebooks/transforms/element-wise/keys-py.ipynb\" target=\"_parent\"><img src=\"https://colab.research.google.com/assets/colab-badge.svg\" alt=\"Open in Colab\"/></a>"
   ]
  },
  {
   "cell_type": "code",
   "execution_count": null,
   "metadata": {
    "cellView": "form"
   },
   "outputs": [],
   "source": [
    "#@title Licensed under the Apache License, Version 2.0 (the \"License\")\n",
    "\n",
    "# Licensed under the Apache License, Version 2.0 (the \"License\");\n",
    "# you may not use this file except in compliance with the License.\n",
    "# You may obtain a copy of the License at\n",
    "#\n",
    "# http://www.apache.org/licenses/LICENSE-2.0\n",
    "#\n",
    "# Unless required by applicable law or agreed to in writing, software\n",
    "# distributed under the License is distributed on an \"AS IS\" BASIS,\n",
    "# WITHOUT WARRANTIES OR CONDITIONS OF ANY KIND, either express or implied.\n",
    "# See the License for the specific language governing permissions and\n",
    "# limitations under the License."
   ]
  },
  {
   "cell_type": "markdown",
   "metadata": {},
   "source": [
    "<table align=\"left\"><td><a target=\"_blank\" href=\"https://beam.apache.org/examples/transforms/element-wise/keys/\"><img src=\"https://beam.apache.org/images/logos/full-color/nameless/beam-logo-full-color-nameless-100.png\" width=\"32\" height=\"32\" />View the Docs</a></td></table>"
   ]
  },
  {
   "cell_type": "markdown",
   "metadata": {
    "id": "keys"
   },
   "source": [
    "# Keys\n",
    "\n",
    "Extracts the key from each element in a collection of key-value pairs."
   ]
  },
  {
   "cell_type": "markdown",
   "metadata": {
    "id": "setup"
   },
   "source": [
    "## Setup\n",
    "\n",
    "First, we'll need to install `apache-beam`."
   ]
  },
  {
   "cell_type": "code",
   "execution_count": null,
   "metadata": {},
   "outputs": [],
   "source": [
    "!pip install -q -U apache-beam"
   ]
  },
  {
   "cell_type": "markdown",
   "metadata": {
    "id": "example"
   },
   "source": [
    "## Example"
   ]
  },
  {
   "cell_type": "code",
   "execution_count": null,
   "metadata": {
    "id": "_keys"
   },
   "outputs": [],
   "source": [
    "import apache_beam as beam\n",
    "\n",
    "with beam.Pipeline() as pipeline:\n",
    "  energy_sources = (\n",
    "    pipeline\n",
    "    # Global energy capacity in 2017 (in GW)\n",
    "    | 'Create inputs' >> beam.Create([\n",
    "        ('Wind power', 540),\n",
    "        ('Hydropower', 1154),\n",
    "        ('Solar energy', 390),\n",
    "        ('Geothermal', 12.9),\n",
    "        ('Bioenergy', 109),\n",
    "      ])\n",
    "    | 'Keys' >> beam.Keys()\n",
    "    | 'Print' >> beam.Map(print)\n",
    "  )"
   ]
  },
  {
   "cell_type": "markdown",
   "metadata": {},
   "source": [
    "<table align=\"left\">\n",
    "  <td>\n",
    "    <a target=\"_blank\" class=\"button\"\n",
    "        href=\"https://colab.sandbox.google.com/github/davidcavazos/beam/blob/notebooks/examples/notebooks/transforms/element-wise/keys-py.ipynb\">\n",
    "      <img src=\"https://www.tensorflow.org/images/colab_logo_32px.png\" width=\"20px\" height=\"20px\" />\n",
    "      Run in Colab\n",
    "    </a>\n",
    "  </td>\n",
    "  <td style=\"padding-left:1em\">\n",
    "    <a target=\"_blank\" class=\"button\"\n",
    "        href=\"https://github.com/davidcavazos/beam/blob/notebooks/sdks/python/apache_beam/examples/snippets/transforms/element_wise/keys.py\">\n",
    "      <img src=\"https://www.tensorflow.org/images/GitHub-Mark-32px.png\" width=\"20px\" height=\"20px\" />\n",
    "      View on GitHub\n",
    "    </a>\n",
    "  </td>\n",
    "</table>"
   ]
  },
  {
   "cell_type": "markdown",
   "metadata": {
    "id": "clean-up"
   },
   "source": [
    "## Clean up\n",
    "\n",
    "You're all done 🎉🎉"
   ]
  },
  {
   "cell_type": "markdown",
   "metadata": {},
   "source": [
    "<table align=\"left\"><td><a target=\"_blank\" href=\"https://beam.apache.org/examples/transforms/element-wise/keys/\"><img src=\"https://beam.apache.org/images/logos/full-color/nameless/beam-logo-full-color-nameless-100.png\" width=\"32\" height=\"32\" />View the Docs</a></td></table>"
   ]
  }
 ],
 "metadata": {
  "colab": {
   "name": "Keys",
   "toc_visible": true
  },
  "kernelspec": {
   "display_name": "python3",
   "name": "python3"
  }
 },
 "nbformat": 4,
 "nbformat_minor": 2
}
